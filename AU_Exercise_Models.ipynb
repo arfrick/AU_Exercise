{
 "cells": [
  {
   "cell_type": "code",
   "execution_count": 1,
   "metadata": {},
   "outputs": [
    {
     "name": "stdout",
     "output_type": "stream",
     "text": [
      "Current Working Directory /Users/amandafrick\n"
     ]
    }
   ],
   "source": [
    "import pandas as pd\n",
    "import os\n",
    "print(\"Current Working Directory\", os.getcwd())"
   ]
  },
  {
   "cell_type": "code",
   "execution_count": 2,
   "metadata": {},
   "outputs": [],
   "source": [
    "os.chdir(\"/Users/amandafrick/Aunalytics_DS\")"
   ]
  },
  {
   "cell_type": "code",
   "execution_count": 3,
   "metadata": {},
   "outputs": [],
   "source": [
    "#read in the data\n",
    "au_train = pd.read_csv('au_train_new.csv')\n",
    "au_test = pd.read_csv('au_test_new.csv')"
   ]
  },
  {
   "cell_type": "code",
   "execution_count": 4,
   "metadata": {},
   "outputs": [
    {
     "name": "stdout",
     "output_type": "stream",
     "text": [
      "Accuracy: 0.8277747067133469\n"
     ]
    }
   ],
   "source": [
    "#Random Forest with the 9 attributes identified in the previous exercise.\n",
    "from sklearn import metrics\n",
    "from sklearn.ensemble import RandomForestClassifier\n",
    "\n",
    "clf=RandomForestClassifier(n_jobs=2, random_state=0)\n",
    "xtrain=au_train[['agegroup','workclass','educationnum','occupation','race','sex','investment','hoursperweek','maritalstatus']]\n",
    "ytrain=au_train[['income']]\n",
    "\n",
    "xtest=au_test[['agegroup','workclass','educationnum','occupation','race','sex','investment','hoursperweek','maritalstatus']]\n",
    "ytest=au_test[['income']]\n",
    "\n",
    "xtrain=pd.get_dummies(xtrain)\n",
    "xtest=pd.get_dummies(xtest)\n",
    "\n",
    "clf.fit(xtrain,ytrain.values.ravel())\n",
    "y_pred=clf.predict(xtest)\n",
    "\n",
    "print(\"Accuracy:\", metrics.accuracy_score(ytest,y_pred))"
   ]
  },
  {
   "cell_type": "code",
   "execution_count": 5,
   "metadata": {},
   "outputs": [
    {
     "data": {
      "text/html": [
       "<div>\n",
       "<style scoped>\n",
       "    .dataframe tbody tr th:only-of-type {\n",
       "        vertical-align: middle;\n",
       "    }\n",
       "\n",
       "    .dataframe tbody tr th {\n",
       "        vertical-align: top;\n",
       "    }\n",
       "\n",
       "    .dataframe thead th {\n",
       "        text-align: right;\n",
       "    }\n",
       "</style>\n",
       "<table border=\"1\" class=\"dataframe\">\n",
       "  <thead>\n",
       "    <tr style=\"text-align: right;\">\n",
       "      <th>Predicted income</th>\n",
       "      <th>&gt;50K</th>\n",
       "      <th>&lt;=50K</th>\n",
       "    </tr>\n",
       "    <tr>\n",
       "      <th>Actual income</th>\n",
       "      <th></th>\n",
       "      <th></th>\n",
       "    </tr>\n",
       "  </thead>\n",
       "  <tbody>\n",
       "    <tr>\n",
       "      <th>&gt;50K</th>\n",
       "      <td>2226</td>\n",
       "      <td>1620</td>\n",
       "    </tr>\n",
       "    <tr>\n",
       "      <th>&lt;=50K</th>\n",
       "      <td>1184</td>\n",
       "      <td>11251</td>\n",
       "    </tr>\n",
       "  </tbody>\n",
       "</table>\n",
       "</div>"
      ],
      "text/plain": [
       "Predicted income  >50K  <=50K\n",
       "Actual income                \n",
       ">50K              2226   1620\n",
       "<=50K             1184  11251"
      ]
     },
     "execution_count": 5,
     "metadata": {},
     "output_type": "execute_result"
    }
   ],
   "source": [
    "#Accuracy of the RF model 82.78%\n",
    "#Confusion Matrix\n",
    "order = ['>50K','<=50K']\n",
    "c = pd.crosstab(ytest.values.ravel(),y_pred,rownames=['Actual income'],colnames=['Predicted income'],margins=True)\n",
    "c = c.reindex(order,columns=order)\n",
    "c"
   ]
  },
  {
   "cell_type": "code",
   "execution_count": 6,
   "metadata": {},
   "outputs": [],
   "source": [
    "#From the results above we can see we have the following:\n",
    "#TP = 2226, FP = 1620, FN = 1184 and TN = 11251\n",
    "\n",
    "import matplotlib.pyplot as plt\n",
    "from matplotlib.pyplot import pie, axis, show"
   ]
  },
  {
   "cell_type": "code",
   "execution_count": 7,
   "metadata": {},
   "outputs": [
    {
     "data": {
      "image/png": "[encoded data removed]",
      "text/plain": [
       "<matplotlib.figure.Figure at 0x1a15c0d828>"
      ]
     },
     "metadata": {},
     "output_type": "display_data"
    }
   ],
   "source": [
    "y_pred_proba = clf.predict_proba(xtest)[::,1]\n",
    "\n",
    "ytest2 = ytest.eq('>50K').mul(1) \n",
    "ytest2 = ytest2.astype(int)\n",
    "\n",
    "fpr, tpr, _ = metrics.roc_curve(ytest2.values.ravel(), y_pred_proba) \n",
    "auc = metrics.roc_auc_score(ytest2.values.ravel(), y_pred_proba)\n",
    "plt.plot(fpr,tpr,label=\"data 1, auc=\"+str(auc)) \n",
    "plt.legend(loc=4) \n",
    "plt.show()"
   ]
  },
  {
   "cell_type": "code",
   "execution_count": 8,
   "metadata": {},
   "outputs": [
    {
     "name": "stdout",
     "output_type": "stream",
     "text": [
      "Accuracy: 0.8406731773232602\n"
     ]
    }
   ],
   "source": [
    "#Logistic regression\n",
    "\n",
    "from sklearn.linear_model import LogisticRegression\n",
    "\n",
    "logreg = LogisticRegression()\n",
    "logreg.fit(xtrain,ytrain.values.ravel())\n",
    "y_pred_lr=logreg.predict(xtest)\n",
    "\n",
    "print(\"Accuracy:\",metrics.accuracy_score(ytest, y_pred_lr))"
   ]
  },
  {
   "cell_type": "code",
   "execution_count": 9,
   "metadata": {},
   "outputs": [
    {
     "data": {
      "text/html": [
       "<div>\n",
       "<style scoped>\n",
       "    .dataframe tbody tr th:only-of-type {\n",
       "        vertical-align: middle;\n",
       "    }\n",
       "\n",
       "    .dataframe tbody tr th {\n",
       "        vertical-align: top;\n",
       "    }\n",
       "\n",
       "    .dataframe thead th {\n",
       "        text-align: right;\n",
       "    }\n",
       "</style>\n",
       "<table border=\"1\" class=\"dataframe\">\n",
       "  <thead>\n",
       "    <tr style=\"text-align: right;\">\n",
       "      <th>Predicted income</th>\n",
       "      <th>&gt;50K</th>\n",
       "      <th>&lt;=50K</th>\n",
       "    </tr>\n",
       "    <tr>\n",
       "      <th>Actual income</th>\n",
       "      <th></th>\n",
       "      <th></th>\n",
       "    </tr>\n",
       "  </thead>\n",
       "  <tbody>\n",
       "    <tr>\n",
       "      <th>&gt;50K</th>\n",
       "      <td>2144</td>\n",
       "      <td>1702</td>\n",
       "    </tr>\n",
       "    <tr>\n",
       "      <th>&lt;=50K</th>\n",
       "      <td>892</td>\n",
       "      <td>11543</td>\n",
       "    </tr>\n",
       "  </tbody>\n",
       "</table>\n",
       "</div>"
      ],
      "text/plain": [
       "Predicted income  >50K  <=50K\n",
       "Actual income                \n",
       ">50K              2144   1702\n",
       "<=50K              892  11543"
      ]
     },
     "execution_count": 9,
     "metadata": {},
     "output_type": "execute_result"
    }
   ],
   "source": [
    "#Accuracy of the LR model 84.07%\n",
    "\n",
    "#Confusion Matrix\n",
    "cm_lr = pd.crosstab(ytest.values.ravel(),y_pred_lr,rownames=['Actual income'],colnames=['Predicted income'],margins=True)\n",
    "cm_lr = cm_lr.reindex(order,columns=order)\n",
    "cm_lr"
   ]
  },
  {
   "cell_type": "code",
   "execution_count": 10,
   "metadata": {},
   "outputs": [
    {
     "data": {
      "image/png": "[encoded data removed]",
      "text/plain": [
       "<matplotlib.figure.Figure at 0x1a1f1aacc0>"
      ]
     },
     "metadata": {},
     "output_type": "display_data"
    }
   ],
   "source": [
    "#From the results above we can see we have the following:\n",
    "#TP = 2144, FP = 892, FN = 1702 and TN = 11543\n",
    "\n",
    "y_pred_proba_lr = logreg.predict_proba(xtest)[::,1]\n",
    "\n",
    "fpr, tpr, _ = metrics.roc_curve(ytest2.values.ravel(), y_pred_proba_lr) \n",
    "auc = metrics.roc_auc_score(ytest2.values.ravel(), y_pred_proba_lr)\n",
    "plt.plot(fpr,tpr,label=\"data 1, auc=\"+str(auc)) \n",
    "plt.legend(loc=4) \n",
    "plt.show()"
   ]
  },
  {
   "cell_type": "code",
   "execution_count": 11,
   "metadata": {},
   "outputs": [
    {
     "name": "stdout",
     "output_type": "stream",
     "text": [
      "Accuracy: 0.8379706406240403\n"
     ]
    }
   ],
   "source": [
    "#NN\n",
    "from sklearn.neural_network import MLPClassifier\n",
    "\n",
    "clf_NN = MLPClassifier(hidden_layer_sizes=5)\n",
    "clf_NN.fit(xtrain,ytrain.values.ravel())\n",
    "   \n",
    "y_pred_NN = clf_NN.predict(xtest)\n",
    "print(\"Accuracy:\",metrics.accuracy_score(ytest, y_pred_NN))"
   ]
  },
  {
   "cell_type": "code",
   "execution_count": 12,
   "metadata": {},
   "outputs": [
    {
     "data": {
      "text/html": [
       "<div>\n",
       "<style scoped>\n",
       "    .dataframe tbody tr th:only-of-type {\n",
       "        vertical-align: middle;\n",
       "    }\n",
       "\n",
       "    .dataframe tbody tr th {\n",
       "        vertical-align: top;\n",
       "    }\n",
       "\n",
       "    .dataframe thead th {\n",
       "        text-align: right;\n",
       "    }\n",
       "</style>\n",
       "<table border=\"1\" class=\"dataframe\">\n",
       "  <thead>\n",
       "    <tr style=\"text-align: right;\">\n",
       "      <th>Predicted income</th>\n",
       "      <th>&gt;50K</th>\n",
       "      <th>&lt;=50K</th>\n",
       "    </tr>\n",
       "    <tr>\n",
       "      <th>Actual income</th>\n",
       "      <th></th>\n",
       "      <th></th>\n",
       "    </tr>\n",
       "  </thead>\n",
       "  <tbody>\n",
       "    <tr>\n",
       "      <th>&gt;50K</th>\n",
       "      <td>2367</td>\n",
       "      <td>1479</td>\n",
       "    </tr>\n",
       "    <tr>\n",
       "      <th>&lt;=50K</th>\n",
       "      <td>1159</td>\n",
       "      <td>11276</td>\n",
       "    </tr>\n",
       "  </tbody>\n",
       "</table>\n",
       "</div>"
      ],
      "text/plain": [
       "Predicted income  >50K  <=50K\n",
       "Actual income                \n",
       ">50K              2367   1479\n",
       "<=50K             1159  11276"
      ]
     },
     "execution_count": 12,
     "metadata": {},
     "output_type": "execute_result"
    }
   ],
   "source": [
    "#Accuracy of the NN model 83.80%\n",
    "\n",
    "#Confusion Matrix\n",
    "cm_nn = pd.crosstab(ytest.values.ravel(),y_pred_NN,rownames=['Actual income'],colnames=['Predicted income'],margins=True)\n",
    "cm_nn = cm_nn.reindex(order,columns=order)\n",
    "cm_nn"
   ]
  },
  {
   "cell_type": "code",
   "execution_count": 13,
   "metadata": {},
   "outputs": [
    {
     "data": {
      "image/png": "[encoded data removed]",
      "text/plain": [
       "<matplotlib.figure.Figure at 0x1a15e6b160>"
      ]
     },
     "metadata": {},
     "output_type": "display_data"
    }
   ],
   "source": [
    "#From the results above we can see we have the following:\n",
    "#TP = 2367, FP = 1159, FN = 1479 and TN = 11276\n",
    "\n",
    "y_pred_proba_NN = clf_NN.predict_proba(xtest)[::,1]\n",
    "\n",
    "fpr, tpr, _ = metrics.roc_curve(ytest2.values.ravel(), y_pred_proba_NN) \n",
    "auc = metrics.roc_auc_score(ytest2.values.ravel(), y_pred_proba_NN)\n",
    "plt.plot(fpr,tpr,label=\"data 1, auc=\"+str(auc)) \n",
    "plt.legend(loc=4) \n",
    "plt.show()"
   ]
  },
  {
   "cell_type": "code",
   "execution_count": 14,
   "metadata": {},
   "outputs": [
    {
     "data": {
      "text/plain": [
       "<matplotlib.legend.Legend at 0x1a15f3e128>"
      ]
     },
     "execution_count": 14,
     "metadata": {},
     "output_type": "execute_result"
    },
    {
     "data": {
      "image/png": "[encoded data removed]",
      "text/plain": [
       "<matplotlib.figure.Figure at 0x1a161308d0>"
      ]
     },
     "metadata": {},
     "output_type": "display_data"
    }
   ],
   "source": [
    "#Now let's compare the ROC for all 3 of the models\n",
    "\n",
    "plt.figure(0).clf()\n",
    "\n",
    "fpr, tpr, _ = metrics.roc_curve(ytest2.values.ravel(), y_pred_proba) \n",
    "auc = metrics.roc_auc_score(ytest2.values.ravel(), y_pred_proba)\n",
    "plt.plot(fpr,tpr,label=\"RF, auc=\"+str(auc))\n",
    "\n",
    "fpr, tpr, _ = metrics.roc_curve(ytest2.values.ravel(), y_pred_proba_lr) \n",
    "auc = metrics.roc_auc_score(ytest2.values.ravel(), y_pred_proba_lr)\n",
    "plt.plot(fpr,tpr,label=\"LR, auc=\"+str(auc))\n",
    "\n",
    "fpr, tpr, _ = metrics.roc_curve(ytest2.values.ravel(), y_pred_proba_NN) \n",
    "auc = metrics.roc_auc_score(ytest2.values.ravel(), y_pred_proba_NN)\n",
    "plt.plot(fpr,tpr,label=\"NN, auc=\"+str(auc))\n",
    "\n",
    "plt.legend(loc=0)"
   ]
  },
  {
   "cell_type": "code",
   "execution_count": null,
   "metadata": {},
   "outputs": [],
   "source": [
    "#Based on the Area Under ROC Curve the order of the models would be \n",
    "#LR = .888269, NN = .888064, RF = .863823\n"
   ]
  }
 ],
 "metadata": {
  "kernelspec": {
   "display_name": "Python 3",
   "language": "python",
   "name": "python3"
  },
  "language_info": {
   "codemirror_mode": {
    "name": "ipython",
    "version": 3
   },
   "file_extension": ".py",
   "mimetype": "text/x-python",
   "name": "python",
   "nbconvert_exporter": "python",
   "pygments_lexer": "ipython3",
   "version": "3.6.4"
  }
 },
 "nbformat": 4,
 "nbformat_minor": 2
}
